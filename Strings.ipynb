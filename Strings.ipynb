{
 "cells": [
  {
   "cell_type": "markdown",
   "id": "dd71f5d2",
   "metadata": {},
   "source": [
    "# Python string Skills 7-3-2022"
   ]
  },
  {
   "cell_type": "markdown",
   "id": "3ffe1a39",
   "metadata": {},
   "source": [
    "String it write or single qutes , string ordered sequence thad mean indexing and slice , and we can grab subsection of string .\n",
    "\n",
    "in slice we usec square practice [] .\n",
    "\n",
    "and in the order will start from zero .\n"
   ]
  },
  {
   "cell_type": "code",
   "execution_count": 22,
   "id": "3760bf43",
   "metadata": {},
   "outputs": [
    {
     "name": "stdout",
     "output_type": "stream",
     "text": [
      "I\n"
     ]
    }
   ],
   "source": [
    "Text1 = \"I love the islam because its big religion\"\n",
    "Text2 = \"I love the islam because its big religion\"\n",
    "#index 0 \n",
    "print(Text1[0])"
   ]
  },
  {
   "cell_type": "code",
   "execution_count": null,
   "id": "b40e5a4b",
   "metadata": {},
   "outputs": [],
   "source": [
    "# The slice structure is (Start - Step - Stop)"
   ]
  },
  {
   "cell_type": "code",
   "execution_count": 7,
   "id": "8ba104ec",
   "metadata": {},
   "outputs": [
    {
     "name": "stdout",
     "output_type": "stream",
     "text": [
      "I lov\n"
     ]
    }
   ],
   "source": [
    "#Slcie\n",
    "print(Text1[0:5])"
   ]
  },
  {
   "cell_type": "code",
   "execution_count": 9,
   "id": "079cc5bd",
   "metadata": {},
   "outputs": [
    {
     "name": "stdout",
     "output_type": "stream",
     "text": [
      "I love the islam because its big religion\n"
     ]
    }
   ],
   "source": [
    "#Slcie\n",
    "print(Text1[0:])"
   ]
  },
  {
   "cell_type": "code",
   "execution_count": 14,
   "id": "6bc93ac0",
   "metadata": {},
   "outputs": [
    {
     "name": "stdout",
     "output_type": "stream",
     "text": [
      "e the islam because its big religion\n"
     ]
    }
   ],
   "source": [
    "#Slcie\n",
    "print(Text1[5:])"
   ]
  },
  {
   "cell_type": "code",
   "execution_count": 17,
   "id": "cae1a47b",
   "metadata": {},
   "outputs": [
    {
     "name": "stdout",
     "output_type": "stream",
     "text": [
      "I love the islam because its big religion\n"
     ]
    }
   ],
   "source": [
    "#Slcie\n",
    "print(Text1[:])"
   ]
  },
  {
   "cell_type": "code",
   "execution_count": 27,
   "id": "ff7d4bd3",
   "metadata": {},
   "outputs": [
    {
     "name": "stdout",
     "output_type": "stream",
     "text": [
      "e islam because its big religion\n"
     ]
    }
   ],
   "source": [
    "#Slcie\n",
    "print(Text2[9:])"
   ]
  },
  {
   "cell_type": "code",
   "execution_count": 32,
   "id": "db427ea2",
   "metadata": {},
   "outputs": [
    {
     "name": "stdout",
     "output_type": "stream",
     "text": [
      "I love the islam bec\n"
     ]
    }
   ],
   "source": [
    "#Slcie\n",
    "print(Text2[0:20:1])"
   ]
  },
  {
   "cell_type": "markdown",
   "id": "e73d1756",
   "metadata": {},
   "source": [
    "- the texts are immutable because can't change \n",
    "- the texts can concanicate tow varible with us \n"
   ]
  },
  {
   "cell_type": "code",
   "execution_count": 34,
   "id": "d35579f0",
   "metadata": {},
   "outputs": [
    {
     "ename": "TypeError",
     "evalue": "'str' object does not support item assignment",
     "output_type": "error",
     "traceback": [
      "\u001b[0;31m---------------------------------------------------------------------------\u001b[0m",
      "\u001b[0;31mTypeError\u001b[0m                                 Traceback (most recent call last)",
      "\u001b[0;32m/var/folders/nw/ky2ch43x05zgvc22m3c6tys80000gn/T/ipykernel_28020/3816241185.py\u001b[0m in \u001b[0;36m<module>\u001b[0;34m\u001b[0m\n\u001b[1;32m      1\u001b[0m \u001b[0mText3\u001b[0m \u001b[0;34m=\u001b[0m \u001b[0;34m'Saeed Mohsmed'\u001b[0m\u001b[0;34m\u001b[0m\u001b[0;34m\u001b[0m\u001b[0m\n\u001b[0;32m----> 2\u001b[0;31m \u001b[0mText3\u001b[0m\u001b[0;34m[\u001b[0m\u001b[0;36m0\u001b[0m\u001b[0;34m]\u001b[0m \u001b[0;34m=\u001b[0m \u001b[0;34m'D'\u001b[0m\u001b[0;34m\u001b[0m\u001b[0;34m\u001b[0m\u001b[0m\n\u001b[0m",
      "\u001b[0;31mTypeError\u001b[0m: 'str' object does not support item assignment"
     ]
    }
   ],
   "source": [
    "Text3 = 'Saeed Mohsmed'\n",
    "Text3[0] = 'D'"
   ]
  },
  {
   "cell_type": "code",
   "execution_count": 36,
   "id": "dd0be53d",
   "metadata": {},
   "outputs": [
    {
     "data": {
      "text/plain": [
       "'I love the islam because its big religionI love the islam because its big religion'"
      ]
     },
     "execution_count": 36,
     "metadata": {},
     "output_type": "execute_result"
    }
   ],
   "source": [
    "Total = Text1 + Text2\n",
    "Total"
   ]
  },
  {
   "cell_type": "markdown",
   "id": "aa5d8357",
   "metadata": {},
   "source": [
    "# The string methods \n",
    "\n",
    "- upper   ()\n",
    "- lower   ()\n",
    "- split   ()\n",
    "- replace ()\n",
    "- join    ()\n"
   ]
  },
  {
   "cell_type": "code",
   "execution_count": 39,
   "id": "e339a3a1",
   "metadata": {},
   "outputs": [
    {
     "name": "stdout",
     "output_type": "stream",
     "text": [
      "I LOVE THE ISLAM BECAUSE ITS BIG RELIGION\n"
     ]
    }
   ],
   "source": [
    "# Upper method - transfer alpha to capital\n",
    "print(Text1.upper())"
   ]
  },
  {
   "cell_type": "code",
   "execution_count": 42,
   "id": "574d0593",
   "metadata": {},
   "outputs": [
    {
     "name": "stdout",
     "output_type": "stream",
     "text": [
      "i love the islam because its big religion\n"
     ]
    }
   ],
   "source": [
    "# Lower method - transfer alpha to small\n",
    "print(Text1.lower())"
   ]
  },
  {
   "cell_type": "code",
   "execution_count": 44,
   "id": "e0b4eebc",
   "metadata": {},
   "outputs": [
    {
     "name": "stdout",
     "output_type": "stream",
     "text": [
      "['I', 'love', 'the', 'islam', 'because', 'its', 'big', 'religion']\n"
     ]
    }
   ],
   "source": [
    "# Upper method - transfer alpha to lists\n",
    "print(Text1.split())"
   ]
  },
  {
   "cell_type": "code",
   "execution_count": 46,
   "id": "db774ccf",
   "metadata": {},
   "outputs": [
    {
     "data": {
      "text/plain": [
       "'I Like the islam because its big religion'"
      ]
     },
     "execution_count": 46,
     "metadata": {},
     "output_type": "execute_result"
    }
   ],
   "source": [
    "#Replace method - it be replaced text place other text.\n",
    "Text1 = \"I love the islam because its big religion\"\n",
    "Rep = Text1.replace(\"love\" , \"Like\")\n",
    "Rep"
   ]
  },
  {
   "cell_type": "code",
   "execution_count": 52,
   "id": "322ba0ea",
   "metadata": {},
   "outputs": [
    {
     "data": {
      "text/plain": [
       "'I- -l-o-v-e- -t-h-e- -i-s-l-a-m- -b-e-c-a-u-s-e- -i-t-s- -b-i-g- -r-e-l-i-g-i-o-n'"
      ]
     },
     "execution_count": 52,
     "metadata": {},
     "output_type": "execute_result"
    }
   ],
   "source": [
    "#Join method - the join method used for add new thing in the text\n",
    "Join_Text = \"-\".join(Text1)\n",
    "Join_Text"
   ]
  },
  {
   "cell_type": "code",
   "execution_count": 54,
   "id": "e299fc23",
   "metadata": {},
   "outputs": [
    {
     "name": "stdout",
     "output_type": "stream",
     "text": [
      " this is new text now i finished learn from I love the islam because its big religion and I love the islam because its big religion\n"
     ]
    }
   ],
   "source": [
    "# Formating - the formating for add the varibles include texts\n",
    "\n",
    "print(f\" this is new text now i finished learn from {Text1} and {Text2}\")"
   ]
  }
 ],
 "metadata": {
  "kernelspec": {
   "display_name": "Python 3 (ipykernel)",
   "language": "python",
   "name": "python3"
  },
  "language_info": {
   "codemirror_mode": {
    "name": "ipython",
    "version": 3
   },
   "file_extension": ".py",
   "mimetype": "text/x-python",
   "name": "python",
   "nbconvert_exporter": "python",
   "pygments_lexer": "ipython3",
   "version": "3.8.12"
  }
 },
 "nbformat": 4,
 "nbformat_minor": 5
}
