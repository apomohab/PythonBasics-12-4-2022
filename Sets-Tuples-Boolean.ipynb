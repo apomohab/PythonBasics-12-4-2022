{
 "cells": [
  {
   "cell_type": "markdown",
   "id": "1c39c154",
   "metadata": {},
   "source": [
    "# Tuples - Sets - Boolean - in 7-3-2022"
   ]
  },
  {
   "cell_type": "markdown",
   "id": "97090287",
   "metadata": {},
   "source": [
    "## This notebook explain other data types sets and tuples and boolean \n",
    "\n",
    "# Tuples\n",
    "\n",
    "- Tuples very similar ists bu not support immutible\n",
    "- Can't resigned tuples element\n",
    "- Tuples used () not [] or {}\n",
    "- if you need object not be changed and ordered tuples it's okay\n",
    "\n",
    "# Sets\n",
    "\n",
    "- Sets are ordered collection \n",
    "- sets have unique elements\n",
    "\n",
    "# boolean \n",
    "\n",
    "- boolean are operator True or False\n",
    "- Boolean very importand in controlflow and logic\n",
    "\n",
    "# Tuples skills\n",
    "- Create Tuples\n",
    "- claed items used index\n",
    "- compare between tuples and lists and tyy change values\n",
    "\n",
    "# Sets Skills\n",
    "\n",
    "- create sets\n",
    "- add element to sets\n",
    "- add similar elements and check\n",
    "- create list items nad make filter at similiar items used sets \n",
    "\n",
    "# Boolean Skils\n",
    "\n",
    "- Create login boolen "
   ]
  },
  {
   "cell_type": "code",
   "execution_count": 3,
   "id": "c9a4ee99",
   "metadata": {},
   "outputs": [
    {
     "name": "stdout",
     "output_type": "stream",
     "text": [
      "(1, 2, 1.2, 'a')\n",
      "1\n"
     ]
    }
   ],
   "source": [
    "#Tuples \n",
    "\n",
    "t = (1,2,1.2,'a')\n",
    "print(t)\n",
    "print(t[0])"
   ]
  },
  {
   "cell_type": "code",
   "execution_count": 8,
   "id": "3e7bab8e",
   "metadata": {},
   "outputs": [
    {
     "name": "stdout",
     "output_type": "stream",
     "text": [
      "set()\n",
      "{1, 2, 3}\n",
      "{1, 2, 3, 4, 5, 6, 'A', 'B'}\n"
     ]
    }
   ],
   "source": [
    "#Sets \n",
    "\n",
    "x = set()\n",
    "print(x)\n",
    "x.add(1)\n",
    "x.add(2)\n",
    "x.add(3)\n",
    "x.add(3)\n",
    "x.add(3)\n",
    "print(x)\n",
    "\n",
    "#Filter repeated items used sets\n",
    "lists = [1,2,3,3,3,3,4,5,6,6,6,'A','A','A','B']\n",
    "print(set(lists))\n"
   ]
  },
  {
   "cell_type": "code",
   "execution_count": 11,
   "id": "70d54e9d",
   "metadata": {},
   "outputs": [
    {
     "name": "stdout",
     "output_type": "stream",
     "text": [
      "True\n",
      "False\n",
      "False\n",
      "True\n"
     ]
    }
   ],
   "source": [
    "# True and False \n",
    "\n",
    "a = True\n",
    "b = False\n",
    "print(a)\n",
    "print(b)\n",
    "\n",
    "print(a > 10)\n",
    "print(a < 10)"
   ]
  }
 ],
 "metadata": {
  "kernelspec": {
   "display_name": "Python 3 (ipykernel)",
   "language": "python",
   "name": "python3"
  },
  "language_info": {
   "codemirror_mode": {
    "name": "ipython",
    "version": 3
   },
   "file_extension": ".py",
   "mimetype": "text/x-python",
   "name": "python",
   "nbconvert_exporter": "python",
   "pygments_lexer": "ipython3",
   "version": "3.8.12"
  }
 },
 "nbformat": 4,
 "nbformat_minor": 5
}
