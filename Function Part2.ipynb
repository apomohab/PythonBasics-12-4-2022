{
 "cells": [
  {
   "cell_type": "markdown",
   "id": "04ce5adb",
   "metadata": {},
   "source": [
    "# Function part 2 - 11 - 3 - 2022."
   ]
  },
  {
   "cell_type": "markdown",
   "id": "c0c4d7f1",
   "metadata": {},
   "source": [
    "This lessn have some excersice of python functions \n",
    "\n",
    "- Max And Min \n",
    "- Join\n",
    "- Enumerate \n"
   ]
  },
  {
   "cell_type": "markdown",
   "id": "2a4ffcd3",
   "metadata": {},
   "source": [
    "# Max And Min"
   ]
  },
  {
   "cell_type": "code",
   "execution_count": 10,
   "id": "570448d2",
   "metadata": {},
   "outputs": [
    {
     "data": {
      "text/plain": [
       "1"
      ]
     },
     "execution_count": 10,
     "metadata": {},
     "output_type": "execute_result"
    }
   ],
   "source": [
    "#MAx and min - Print maximun numbers and minimum numbers \n",
    "\n",
    "Min_Num = min(1,2,3,4,5,6,7)\n",
    "Min_Num\n"
   ]
  },
  {
   "cell_type": "code",
   "execution_count": 23,
   "id": "cab01d30",
   "metadata": {},
   "outputs": [
    {
     "data": {
      "text/plain": [
       "7"
      ]
     },
     "execution_count": 23,
     "metadata": {},
     "output_type": "execute_result"
    }
   ],
   "source": [
    "#MAx and min - Print maximun numbers and minimum numbers \n",
    "\n",
    "Max_Num = max(1,2,3,4,5,6,7)\n",
    "Max_Num\n",
    "\n"
   ]
  },
  {
   "cell_type": "markdown",
   "id": "fbe7893f",
   "metadata": {},
   "source": [
    "# Join "
   ]
  },
  {
   "cell_type": "code",
   "execution_count": 17,
   "id": "97b03654",
   "metadata": {},
   "outputs": [
    {
     "name": "stdout",
     "output_type": "stream",
     "text": [
      "ABCDEF\n"
     ]
    }
   ],
   "source": [
    "# Join - Add Symbols in letters\n",
    "\n",
    "Mlist = ['A' , 'B' , 'C' , 'D' , 'E' , 'F']\n",
    "print(''.join(Mlist))"
   ]
  },
  {
   "cell_type": "code",
   "execution_count": 19,
   "id": "ad5fb260",
   "metadata": {},
   "outputs": [
    {
     "name": "stdout",
     "output_type": "stream",
     "text": [
      "A--B--C--D--E--F\n"
     ]
    }
   ],
   "source": [
    "# Join - Add Symbols in letters\n",
    "\n",
    "Mlist = ['A' , 'B' , 'C' , 'D' , 'E' , 'F']\n",
    "print('--'.join(Mlist))"
   ]
  },
  {
   "cell_type": "code",
   "execution_count": 24,
   "id": "2a056be6",
   "metadata": {},
   "outputs": [
    {
     "name": "stdout",
     "output_type": "stream",
     "text": [
      "A-SS-B-SS-C-SS-D-SS-E-SS-F\n"
     ]
    }
   ],
   "source": [
    "# Join - Add Symbols in letters\n",
    "\n",
    "Mlist = ['A' , 'B' , 'C' , 'D' , 'E' , 'F']\n",
    "print('-SS-'.join(Mlist))"
   ]
  },
  {
   "cell_type": "markdown",
   "id": "bb48694e",
   "metadata": {},
   "source": [
    "# Enumerate "
   ]
  },
  {
   "cell_type": "code",
   "execution_count": 6,
   "id": "f35d8af7",
   "metadata": {},
   "outputs": [
    {
     "name": "stdout",
     "output_type": "stream",
     "text": [
      "a\n",
      "is at index: 0\n",
      "\n",
      "b\n",
      "is at index: 1\n",
      "\n",
      "c\n",
      "is at index: 2\n",
      "\n"
     ]
    }
   ],
   "source": [
    "# Before used enumerate .\n",
    "\n",
    "mylist = ['a' , 'b' , 'c']\n",
    "\n",
    "index = 0\n",
    "\n",
    "for letter in mylist:\n",
    "    print(letter)\n",
    "    \n",
    "    print('is at index: {}'.format(index))\n",
    "    \n",
    "    index = index+1\n",
    "    \n",
    "    print('') # Space\n"
   ]
  },
  {
   "cell_type": "code",
   "execution_count": 25,
   "id": "98cff0a8",
   "metadata": {},
   "outputs": [
    {
     "name": "stdout",
     "output_type": "stream",
     "text": [
      "a\n",
      "is at index:0\n",
      "\n",
      "b\n",
      "is at index:1\n",
      "\n",
      "c\n",
      "is at index:2\n",
      "\n",
      "d\n",
      "is at index:3\n",
      "\n",
      "d\n",
      "is at index:4\n",
      "\n"
     ]
    }
   ],
   "source": [
    "# After used enumerate .\n",
    "\n",
    "mylist = ['a' , 'b' , 'c','d','d']\n",
    "\n",
    "\n",
    "for index , item in enumerate(mylist):\n",
    "    \n",
    "    print(item)\n",
    "    \n",
    "    print(f\"is at index:{index}\")\n",
    "    \n",
    "    print('') # Space\n",
    "\n"
   ]
  },
  {
   "cell_type": "markdown",
   "id": "7eff655b",
   "metadata": {},
   "source": [
    "# Practice "
   ]
  },
  {
   "cell_type": "code",
   "execution_count": 40,
   "id": "2f1538ee",
   "metadata": {},
   "outputs": [
    {
     "name": "stdout",
     "output_type": "stream",
     "text": [
      "True\n"
     ]
    }
   ],
   "source": [
    "# Boolean practice - Does Check the word in string or no \n",
    "\n",
    "def Secret_Check(mystring):\n",
    "    \n",
    "    return 'secret' in mystring\n",
    "\n",
    "print(Secret_Check(\"Thisis a secret\"))"
   ]
  },
  {
   "cell_type": "code",
   "execution_count": 43,
   "id": "4a0680a6",
   "metadata": {},
   "outputs": [
    {
     "name": "stdout",
     "output_type": "stream",
     "text": [
      "False\n"
     ]
    }
   ],
   "source": [
    "# Boolean practice - Does Check the word in string or no  With lower method\n",
    "\n",
    "def Secret_Check(mystring):\n",
    "    \n",
    "    return 'secret' in mystring.lower()\n",
    "\n",
    "print(Secret_Check(\"Thisis a SECRT\"))"
   ]
  },
  {
   "cell_type": "code",
   "execution_count": null,
   "id": "851e5522",
   "metadata": {},
   "outputs": [],
   "source": [
    "# Check the vowels alpha in string or no\n",
    "\n",
    "def code_maker(mystring):\n",
    "    \n",
    "    for letter in mystring:\n",
    "        \n",
    "        for vowel in 'aeiou':\n",
    "            \n",
    "            if letter == vowel:\n",
    "                \n",
    "                print(letter)\n",
    "                \n",
    "code_maker('Saeed')"
   ]
  },
  {
   "cell_type": "code",
   "execution_count": 34,
   "id": "78e9bd92",
   "metadata": {},
   "outputs": [
    {
     "name": "stdout",
     "output_type": "stream",
     "text": [
      "['S', 'a', 'e', 'e', 'd']\n",
      "a\n",
      "e\n",
      "e\n"
     ]
    }
   ],
   "source": [
    "# Check the vowels alpha in string  and add output tarsfer string to list\n",
    "\n",
    "def code_maker(mystring):\n",
    "    \n",
    "    output= list(mystring)\n",
    "    \n",
    "    print(output)\n",
    "    \n",
    "    for letter in mystring:\n",
    "        \n",
    "        for vowel in 'aeiou':\n",
    "            \n",
    "            if letter == vowel:\n",
    "                \n",
    "                print(letter)\n",
    "                \n",
    "code_maker('Saeed')"
   ]
  },
  {
   "cell_type": "code",
   "execution_count": 46,
   "id": "6dfe8777",
   "metadata": {},
   "outputs": [
    {
     "name": "stdout",
     "output_type": "stream",
     "text": [
      "xdxm\n"
     ]
    }
   ],
   "source": [
    "# Check the vowels alpha in string  and add output tarsfer string to list and enumerate and join .\n",
    "\n",
    "def code_maker(mystring):\n",
    "    \n",
    "    output= list(mystring)\n",
    "    \n",
    "    \n",
    "    for index , letter in enumerate(mystring):\n",
    "        \n",
    "        for vowel in 'aeiou':\n",
    "            \n",
    "            if letter.lower() == vowel:\n",
    "                \n",
    "                output[index] = 'x'\n",
    "                \n",
    "    output = ''.join(output)\n",
    "    \n",
    "    return output\n",
    "                \n",
    "print(code_maker('Adam'))\n"
   ]
  }
 ],
 "metadata": {
  "kernelspec": {
   "display_name": "Python 3 (ipykernel)",
   "language": "python",
   "name": "python3"
  },
  "language_info": {
   "codemirror_mode": {
    "name": "ipython",
    "version": 3
   },
   "file_extension": ".py",
   "mimetype": "text/x-python",
   "name": "python",
   "nbconvert_exporter": "python",
   "pygments_lexer": "ipython3",
   "version": "3.8.12"
  }
 },
 "nbformat": 4,
 "nbformat_minor": 5
}
