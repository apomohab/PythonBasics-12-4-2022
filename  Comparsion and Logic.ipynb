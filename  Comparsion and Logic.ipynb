{
 "cells": [
  {
   "cell_type": "markdown",
   "id": "0c34ebfe",
   "metadata": {},
   "source": [
    "# Comparsion operators an logic //  10  - 3 - 2022 // "
   ]
  },
  {
   "cell_type": "markdown",
   "id": "68957761",
   "metadata": {},
   "source": [
    "- Comparison Operators are used to perform comparisons.\n",
    "\n",
    "- Logical Operators are used to perform logical operations and include AND, OR, or NOT.\n",
    "\n",
    "\n",
    "# Logical \n",
    "\n",
    "- And\n",
    "- OR\n",
    "- Not\n",
    "\n",
    "\n",
    "# Comparsion \n",
    "\n",
    "\n",
    "- >\n",
    "- <\n",
    "- = \n",
    "- != \n",
    "- == \n"
   ]
  },
  {
   "cell_type": "code",
   "execution_count": 5,
   "id": "7e3ba462",
   "metadata": {},
   "outputs": [
    {
     "name": "stdout",
     "output_type": "stream",
     "text": [
      "False\n"
     ]
    }
   ],
   "source": [
    "#Comparsion Examples \n",
    "\n",
    "A = 10\n",
    "\n",
    "B = 20\n",
    "\n",
    "if A  == B :\n",
    "    \n",
    "    print('True')\n",
    "    \n",
    "else :\n",
    "        \n",
    "    print(\"False\")\n",
    "    "
   ]
  },
  {
   "cell_type": "code",
   "execution_count": 10,
   "id": "17997e58",
   "metadata": {},
   "outputs": [
    {
     "name": "stdout",
     "output_type": "stream",
     "text": [
      "True\n"
     ]
    }
   ],
   "source": [
    "# Comparsion Examples \n",
    "X = 20\n",
    "\n",
    "Y = 30 \n",
    "\n",
    "num = X + Y\n",
    "\n",
    "if ( num == 50) :\n",
    "    \n",
    "    print('True')\n",
    "    \n",
    "else :\n",
    "    \n",
    "    print('False')"
   ]
  },
  {
   "cell_type": "code",
   "execution_count": 15,
   "id": "42fb0387",
   "metadata": {},
   "outputs": [
    {
     "name": "stdout",
     "output_type": "stream",
     "text": [
      "30\n",
      "20\n",
      "False\n"
     ]
    }
   ],
   "source": [
    "# Logical examples\n",
    "\n",
    "print(X and Y)\n",
    "print(X or Y)\n",
    "print(not Y)"
   ]
  }
 ],
 "metadata": {
  "kernelspec": {
   "display_name": "Python 3 (ipykernel)",
   "language": "python",
   "name": "python3"
  },
  "language_info": {
   "codemirror_mode": {
    "name": "ipython",
    "version": 3
   },
   "file_extension": ".py",
   "mimetype": "text/x-python",
   "name": "python",
   "nbconvert_exporter": "python",
   "pygments_lexer": "ipython3",
   "version": "3.8.12"
  }
 },
 "nbformat": 4,
 "nbformat_minor": 5
}
