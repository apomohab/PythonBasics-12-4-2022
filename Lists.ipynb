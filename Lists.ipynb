{
 "cells": [
  {
   "cell_type": "markdown",
   "id": "ab219a62",
   "metadata": {},
   "source": [
    "# Lists - on 7-3-2022"
   ]
  },
  {
   "cell_type": "markdown",
   "id": "90640f33",
   "metadata": {},
   "source": [
    "- lists are orders squence can hold more attributes \n",
    "- lists use square brakets []\n",
    "- lists support index and slice\n",
    "- lists support nested items\n",
    "- lists can have content naumbers and string\n",
    "\n",
    "# lists methods \n",
    "\n",
    "- append\n",
    "- insert\n",
    "- pop\n",
    "- len\n",
    "\n",
    "# lists Skills\n",
    "\n",
    "- nested lists \n",
    "- change items\n",
    "- called items\n",
    "- deleted items\n",
    "- add items \n",
    "- loop items\n",
    "- Iterating over multiple lists simultaneously\n",
    "- Merging two lists to form a list"
   ]
  },
  {
   "cell_type": "markdown",
   "id": "d252bf13",
   "metadata": {},
   "source": [
    "# Lists Structre"
   ]
  },
  {
   "cell_type": "code",
   "execution_count": 7,
   "id": "aea4f405",
   "metadata": {},
   "outputs": [],
   "source": [
    "list1 = [1,2,3,4,5,6]\n",
    "list2 = [\"i learn data science\"]\n",
    "list3 = [\"www.d-science.com\" , '150$']"
   ]
  },
  {
   "cell_type": "code",
   "execution_count": 12,
   "id": "db34fb72",
   "metadata": {},
   "outputs": [
    {
     "name": "stdout",
     "output_type": "stream",
     "text": [
      "[1, 2, 3, 4, 5, 6]\n",
      "1\n",
      "[1]\n",
      "[2, 3, 4, 5]\n",
      " are you now how it sum list  numbers [1, 2, 3, 4, 5, 6] with list string['i learn data science']\n"
     ]
    }
   ],
   "source": [
    "# Called items\n",
    "# Indexing\n",
    "# Slicing\n",
    "\n",
    "print(list1)\n",
    "print(list1[0])\n",
    "print(list1[0:1])\n",
    "print(list1[1:5])\n",
    "print(f\" are you now how it sum list  numbers {list1} with list string{list2}\")"
   ]
  },
  {
   "cell_type": "markdown",
   "id": "f0b0ff1d",
   "metadata": {},
   "source": [
    "# List methods "
   ]
  },
  {
   "cell_type": "code",
   "execution_count": 17,
   "id": "c5629f8f",
   "metadata": {},
   "outputs": [
    {
     "name": "stdout",
     "output_type": "stream",
     "text": [
      "['i learn data science', 'and data analysis', 'and data analysis']\n",
      "[1, 2, 3, 4, 5, 6, '6', '6', '7', '6', '7', '6', '7']\n"
     ]
    }
   ],
   "source": [
    "# Append - add items to list (The name varible with method)\n",
    "\n",
    "list1.append(\"6\")\n",
    "list1.append(\"7\")\n",
    "list2.append(\"and data analysis\")\n",
    "print(list2)\n",
    "print(list1)\n"
   ]
  },
  {
   "cell_type": "code",
   "execution_count": 24,
   "id": "71dd0012",
   "metadata": {},
   "outputs": [
    {
     "name": "stdout",
     "output_type": "stream",
     "text": [
      "[0, 'i learn data science', 'and data analysis', 'and java script', 'and java script', 'and java script', 'and java script', 'and data analysis', 'and java script', 'and java script']\n",
      "[0, 0, 0, 1, 2, 3, 4, 5, 6, '6', '6', '7', '6', '7', '6', '7']\n"
     ]
    }
   ],
   "source": [
    "#insert method ( the name varible and method)\n",
    "\n",
    "'''\n",
    "The diference between append and insert\n",
    "append(add one items to list) and has one argument\n",
    "insert(add tow items in list) and has tow argument\n",
    "but in insert must be called the index number for item\n",
    "'''\n",
    "list2.insert(3 , 'and java script')\n",
    "print(list2)\n",
    "list1.insert(0, 0)\n",
    "print(list1)"
   ]
  },
  {
   "cell_type": "code",
   "execution_count": 27,
   "id": "a6b19560",
   "metadata": {},
   "outputs": [
    {
     "name": "stdout",
     "output_type": "stream",
     "text": [
      "[0, 0, 3, 4, 5, 6, '6', '6', '7', '6', '7', '6', '7']\n",
      "[0, 'i learn data science', 'and data analysis', 'and java script', 'and java script', 'and data analysis', 'and java script', 'and java script']\n"
     ]
    }
   ],
   "source": [
    "# Pop method - for deleted items\n",
    "\n",
    "'''\n",
    "pop used for delete items by indexed\n",
    "'''\n",
    "\n",
    "list1.pop(2)\n",
    "print(list1)\n",
    "\n",
    "list2.pop(3)\n",
    "print(list2)\n"
   ]
  },
  {
   "cell_type": "code",
   "execution_count": 30,
   "id": "0325c1f7",
   "metadata": {},
   "outputs": [
    {
     "name": "stdout",
     "output_type": "stream",
     "text": [
      "13\n",
      "8\n"
     ]
    }
   ],
   "source": [
    "# len - used for know num sum items\n",
    "\n",
    "print(len(list1))\n",
    "print(len(list2))"
   ]
  },
  {
   "cell_type": "code",
   "execution_count": 47,
   "id": "7943d53d",
   "metadata": {},
   "outputs": [
    {
     "name": "stdout",
     "output_type": "stream",
     "text": [
      "[[1, 2, 3, 4, 5], [3, 4, 5, 6, 7], [8, 9, 0, 10, 11]]\n",
      "2\n",
      "6\n",
      "9\n"
     ]
    }
   ],
   "source": [
    "#Nested list\n",
    "\n",
    "'''\n",
    "in the nested lists we need to create list\n",
    "inside list \n",
    "'''\n",
    "\n",
    "numlst1 = [1,2,3,4,5]\n",
    "numlst2 = [3,4,5,6,7]\n",
    "numlst3 = [8,9,0,10,11]\n",
    "\n",
    "all_lst = [numlst1 , numlst2 , numlst3] # look at here for make slice lists must be add square brakets here []\n",
    "\n",
    "print(all_lst)\n",
    "\n",
    "#slice nested list\n",
    "\n",
    "print(all_lst[0][1])\n",
    "print(all_lst[1][3])\n",
    "print(all_lst[2][1])\n",
    "        "
   ]
  },
  {
   "cell_type": "code",
   "execution_count": 51,
   "id": "e5745338",
   "metadata": {},
   "outputs": [
    {
     "name": "stdout",
     "output_type": "stream",
     "text": [
      "['A', 0, 3, 4, 5, 6, '6', '6', '7', '6', '7', '6', '7']\n"
     ]
    }
   ],
   "source": [
    "# Change item in list\n",
    "\n",
    "'''\n",
    "we can change any atems in the list used by index number\n",
    "lst[0] = \"new item\"\n",
    "'''\n",
    "\n",
    "list1[0] = \"A\"\n",
    "print(list1)"
   ]
  },
  {
   "cell_type": "code",
   "execution_count": 53,
   "id": "ce0ffcc0",
   "metadata": {},
   "outputs": [
    {
     "name": "stdout",
     "output_type": "stream",
     "text": [
      "A\n",
      "0\n",
      "3\n",
      "4\n",
      "5\n",
      "6\n",
      "6\n",
      "6\n",
      "7\n",
      "6\n",
      "7\n",
      "6\n",
      "7\n"
     ]
    }
   ],
   "source": [
    "# Loop items - how to use loop with lists\n",
    "\n",
    "for x in list1:\n",
    "    print(x)"
   ]
  },
  {
   "cell_type": "code",
   "execution_count": 58,
   "id": "a0b2b8e8",
   "metadata": {},
   "outputs": [
    {
     "name": "stdout",
     "output_type": "stream",
     "text": [
      "Python 10$\n",
      "Pandas 15$\n",
      "Numpy 20$\n"
     ]
    }
   ],
   "source": [
    "#  Iterating over multiple lists simultaneously\n",
    "\n",
    "'''\n",
    "This way benifits for assign pricec or values to itmes\n",
    "for example add price to phoe , add value to items ...\n",
    "'''\n",
    "\n",
    "data_analysis = [\"Python\" , \"Pandas\" , \"Numpy\"]\n",
    "Prices = ['10$' , '15$' , '20$']\n",
    "\n",
    "for data_analysis  , Prices in zip (data_analysis , Prices):\n",
    "    print(data_analysis , Prices)"
   ]
  },
  {
   "cell_type": "code",
   "execution_count": 60,
   "id": "e4fa2aa4",
   "metadata": {},
   "outputs": [
    {
     "name": "stdout",
     "output_type": "stream",
     "text": [
      "{'Python': '10$', 'Pandas': '15$', 'Numpy': '20$'}\n"
     ]
    }
   ],
   "source": [
    "# Merging tow lists in one list\n",
    "\n",
    "'''\n",
    "in this way we used method dict\n",
    "'''\n",
    "\n",
    "data_analysis = [\"Python\" , \"Pandas\" , \"Numpy\"]\n",
    "Prices = ['10$' , '15$' , '20$']\n",
    "\n",
    "dictionary = dict(zip(data_analysis , Prices))\n",
    "print(dictionary )"
   ]
  },
  {
   "cell_type": "code",
   "execution_count": 71,
   "id": "7585390f",
   "metadata": {},
   "outputs": [
    {
     "data": {
      "text/html": [
       "<div>\n",
       "<style scoped>\n",
       "    .dataframe tbody tr th:only-of-type {\n",
       "        vertical-align: middle;\n",
       "    }\n",
       "\n",
       "    .dataframe tbody tr th {\n",
       "        vertical-align: top;\n",
       "    }\n",
       "\n",
       "    .dataframe thead th {\n",
       "        text-align: right;\n",
       "    }\n",
       "</style>\n",
       "<table border=\"1\" class=\"dataframe\">\n",
       "  <thead>\n",
       "    <tr style=\"text-align: right;\">\n",
       "      <th></th>\n",
       "      <th>Courses</th>\n",
       "      <th>Prices</th>\n",
       "    </tr>\n",
       "  </thead>\n",
       "  <tbody>\n",
       "    <tr>\n",
       "      <th>0</th>\n",
       "      <td>Python</td>\n",
       "      <td>10$</td>\n",
       "    </tr>\n",
       "    <tr>\n",
       "      <th>1</th>\n",
       "      <td>Pandas</td>\n",
       "      <td>15$</td>\n",
       "    </tr>\n",
       "    <tr>\n",
       "      <th>2</th>\n",
       "      <td>Numpy</td>\n",
       "      <td>20$</td>\n",
       "    </tr>\n",
       "  </tbody>\n",
       "</table>\n",
       "</div>"
      ],
      "text/plain": [
       "  Courses Prices\n",
       "0  Python    10$\n",
       "1  Pandas    15$\n",
       "2   Numpy    20$"
      ]
     },
     "execution_count": 71,
     "metadata": {},
     "output_type": "execute_result"
    }
   ],
   "source": [
    "# Make datafreame in lists\n",
    "\n",
    "import pandas as pd \n",
    "\n",
    "'''\n",
    "the data frane in lists good skils in data science\n",
    "'''\n",
    "\n",
    "\n",
    "data_analysis = [\"Python\" , \"Pandas\" , \"Numpy\"]\n",
    "Prices = ['10$' , '15$' , '20$']\n",
    "\n",
    "df = pd.DataFrame(list(zip(data_analysis , Prices )), columns = ['Courses' , 'Prices'])\n",
    "df\n",
    "\n"
   ]
  },
  {
   "cell_type": "code",
   "execution_count": 78,
   "id": "a3126092",
   "metadata": {},
   "outputs": [
    {
     "name": "stdout",
     "output_type": "stream",
     "text": [
      "Python 10$\n",
      "Pandas 15$\n",
      "Numpy 20$\n"
     ]
    }
   ],
   "source": [
    "# Prinrt courses and prises without data frame in list \n",
    "\n",
    "for Python , Pandas in zip(df.Courses, df.Prices):\n",
    "    print(Python , Pandas)"
   ]
  },
  {
   "cell_type": "code",
   "execution_count": 79,
   "id": "83321c68",
   "metadata": {},
   "outputs": [
    {
     "data": {
      "text/plain": [
       "{'Python': '10$', 'Pandas': '15$', 'Numpy': '20$'}"
      ]
     },
     "execution_count": 79,
     "metadata": {},
     "output_type": "execute_result"
    }
   ],
   "source": [
    "# Prinrt courses and prises without data frame in dictionary\n",
    "\n",
    "dict_data = dict(zip(df.Courses, df.Prices))\n",
    "dict_data"
   ]
  }
 ],
 "metadata": {
  "kernelspec": {
   "display_name": "Python 3 (ipykernel)",
   "language": "python",
   "name": "python3"
  },
  "language_info": {
   "codemirror_mode": {
    "name": "ipython",
    "version": 3
   },
   "file_extension": ".py",
   "mimetype": "text/x-python",
   "name": "python",
   "nbconvert_exporter": "python",
   "pygments_lexer": "ipython3",
   "version": "3.8.12"
  }
 },
 "nbformat": 4,
 "nbformat_minor": 5
}
