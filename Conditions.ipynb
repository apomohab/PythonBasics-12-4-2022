{
 "cells": [
  {
   "cell_type": "markdown",
   "id": "605d174f",
   "metadata": {},
   "source": [
    "# Start Conditions lessons - 10-2-2022\n"
   ]
  },
  {
   "cell_type": "markdown",
   "id": "c9bb9730",
   "metadata": {},
   "source": [
    "- The conditions has if - elif - else \n",
    "- statr function with if \n",
    "- then you can used elif\n",
    "- finished used else \n"
   ]
  },
  {
   "cell_type": "code",
   "execution_count": 13,
   "id": "60403ba8",
   "metadata": {},
   "outputs": [
    {
     "name": "stdout",
     "output_type": "stream",
     "text": [
      "Welocome Admin Saeed\n"
     ]
    }
   ],
   "source": [
    "# example \n",
    "\n",
    "Admin = 'Saeed'\n",
    "Permission = True \n",
    "\n",
    "if Admin == 'Saeed' and Permission:\n",
    "    \n",
    "    print('Welocome Admin Saeed')\n",
    "    \n",
    "elif Admin != 'Saeed' and not Permisssion:\n",
    "    \n",
    "    print(\"Please Try again later\")\n",
    "    \n",
    "else :\n",
    "    \n",
    "    print(\"Your Account Stoped 15 minutes\")\n",
    "    \n",
    "    "
   ]
  }
 ],
 "metadata": {
  "kernelspec": {
   "display_name": "Python 3 (ipykernel)",
   "language": "python",
   "name": "python3"
  },
  "language_info": {
   "codemirror_mode": {
    "name": "ipython",
    "version": 3
   },
   "file_extension": ".py",
   "mimetype": "text/x-python",
   "name": "python",
   "nbconvert_exporter": "python",
   "pygments_lexer": "ipython3",
   "version": "3.8.12"
  }
 },
 "nbformat": 4,
 "nbformat_minor": 5
}
