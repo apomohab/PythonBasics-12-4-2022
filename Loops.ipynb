{
 "cells": [
  {
   "cell_type": "markdown",
   "id": "42f1d41e",
   "metadata": {},
   "source": [
    "# Loops - 10 - 3 - 2022 \n",
    "\n"
   ]
  },
  {
   "cell_type": "markdown",
   "id": "91d0d54e",
   "metadata": {},
   "source": [
    "Many obejts in oython are \"iterable\"\n",
    "\n",
    "we can use  or loops to execute blooks os code for every iteration .\n",
    "\n",
    "we can iterate over every character in string or iny item in list , or any key in dictionary \n",
    "\n",
    "--- \n",
    "# While loops \n",
    "\n",
    "- While loops will continue to execute blocks of code while some conditions remain is True \n",
    "- to finish the condition\n",
    "- Keep on iterating until the condition is false.This is known as an indefinite iteration\n",
    "\n",
    "# For Loop \n",
    "\n",
    "- for loop used in iterate over a sequence (list  , tuple , string) or other iterable object.\n",
    "- Iterate a predefined number of times. This is also known as a definite iteration\n",
    "\n",
    "# Syntax While \n",
    "\n",
    " - While some-boolean-condition:\n",
    "     #Do Some thing\n",
    "     \n",
    "     \n",
    "# Syntax For \n",
    "\n",
    "    -for i in <collection>: \n",
    "     # Do loop \n",
    "     \n",
    "# Skills \n",
    "\n",
    "- Do while with number\n",
    "- Do While with streing\n",
    "- Do For whth list\n",
    "- Do for with dict\n",
    "- Do for with set \n",
    "\n"
   ]
  },
  {
   "cell_type": "code",
   "execution_count": 2,
   "id": "a55d001d",
   "metadata": {},
   "outputs": [
    {
     "name": "stdout",
     "output_type": "stream",
     "text": [
      "1\n",
      "2\n",
      "3\n",
      "4\n",
      "5\n"
     ]
    }
   ],
   "source": [
    "# For with lists\n",
    "\n",
    "list1 = [1,2,3,4,5]\n",
    "\n",
    "for x in list1:\n",
    "    \n",
    "    print(x)"
   ]
  },
  {
   "cell_type": "code",
   "execution_count": 3,
   "id": "8a89e9fd",
   "metadata": {},
   "outputs": [
    {
     "name": "stdout",
     "output_type": "stream",
     "text": [
      "1\n",
      "4\n",
      "9\n",
      "16\n",
      "25\n"
     ]
    }
   ],
   "source": [
    "# For with lists\n",
    "\n",
    "list1 = [1,2,3,4,5]\n",
    "\n",
    "for x in list1:\n",
    "    \n",
    "    print(x ** 2)"
   ]
  },
  {
   "cell_type": "code",
   "execution_count": 7,
   "id": "18e9d413",
   "metadata": {},
   "outputs": [
    {
     "name": "stdout",
     "output_type": "stream",
     "text": [
      "I\n",
      " \n",
      "L\n",
      "o\n",
      "v\n",
      "e\n",
      " \n",
      "P\n",
      "y\n",
      "t\n",
      "h\n",
      "o\n",
      "n\n"
     ]
    }
   ],
   "source": [
    "# For loop with string\n",
    "\n",
    "string1 = \"I Love Python\"\n",
    "\n",
    "for i in string1:\n",
    "    \n",
    "    print(i)"
   ]
  },
  {
   "cell_type": "code",
   "execution_count": 10,
   "id": "65bd5f79",
   "metadata": {},
   "outputs": [
    {
     "name": "stdout",
     "output_type": "stream",
     "text": [
      "I\n",
      " \n",
      "L\n",
      "o\n",
      "v\n",
      "e\n",
      " \n",
      "P\n",
      "y\n",
      "t\n",
      "h\n",
      "o\n",
      "n\n"
     ]
    }
   ],
   "source": [
    "# For loop with string\n",
    "\n",
    "string1 = \"I Love Python\"\n",
    "\n",
    "for i in string1:\n",
    "    \n",
    "    print(i)"
   ]
  },
  {
   "cell_type": "code",
   "execution_count": 34,
   "id": "07483ea2",
   "metadata": {},
   "outputs": [
    {
     "name": "stdout",
     "output_type": "stream",
     "text": [
      "name1\n",
      "Age\n"
     ]
    }
   ],
   "source": [
    "# For loop with Dict\n",
    "\n",
    "dict_names = {\"name1\":'Mohab' , 'Age':15}\n",
    "\n",
    "for name in dict_names:\n",
    "    \n",
    "    # The key in default in print.\n",
    "    print(name)"
   ]
  },
  {
   "cell_type": "code",
   "execution_count": 35,
   "id": "48ee05f6",
   "metadata": {},
   "outputs": [
    {
     "name": "stdout",
     "output_type": "stream",
     "text": [
      "name1\n",
      "Age\n"
     ]
    }
   ],
   "source": [
    "# For loop with Dict Key\n",
    "\n",
    "dict_names = {\"name1\":'Mohab' , 'Age':15}\n",
    "\n",
    "for name in dict_names:\n",
    "    \n",
    "    # The key in default in print.\n",
    "    print(name)"
   ]
  },
  {
   "cell_type": "code",
   "execution_count": 40,
   "id": "7a7c91df",
   "metadata": {},
   "outputs": [
    {
     "name": "stdout",
     "output_type": "stream",
     "text": [
      "Mohab\n",
      "15\n"
     ]
    }
   ],
   "source": [
    "# For loop with Dict print values\n",
    "\n",
    "dict_names = {\"name1\":'Mohab' , 'Age':15}\n",
    "\n",
    "for name in dict_names:\n",
    "    \n",
    "    # The key in default in print.\n",
    "    print(dict_names[name])"
   ]
  },
  {
   "cell_type": "code",
   "execution_count": 42,
   "id": "920468a9",
   "metadata": {},
   "outputs": [
    {
     "name": "stdout",
     "output_type": "stream",
     "text": [
      "(1, 2, 3)\n",
      "('A', 'B', 'A')\n",
      "12,34,56\n"
     ]
    }
   ],
   "source": [
    "# For with lists items and tuples\n",
    "\n",
    "my_items = [(1,2,3) , ('A' , 'B' , 'A') , ('12,34,56')]\n",
    "\n",
    "for item in my_items :\n",
    "    \n",
    "    print(item)"
   ]
  },
  {
   "cell_type": "code",
   "execution_count": 51,
   "id": "81a583da",
   "metadata": {},
   "outputs": [
    {
     "name": "stdout",
     "output_type": "stream",
     "text": [
      "1\n",
      "A\n",
      "B\n",
      "2\n",
      "C\n",
      "3\n"
     ]
    }
   ],
   "source": [
    "# Get some items used for\n",
    "\n",
    "my_items = [ (1,'A') , ('B' ,2) , ('C',3) ]\n",
    "\n",
    "for letters , num in my_items :\n",
    "    \n",
    "    #print string only\n",
    "    print(letters)\n",
    "    \n",
    "    #Print num only\n",
    "    print(num)\n",
    "    "
   ]
  },
  {
   "cell_type": "code",
   "execution_count": 56,
   "id": "374b3c60",
   "metadata": {},
   "outputs": [
    {
     "name": "stdout",
     "output_type": "stream",
     "text": [
      "1\n",
      "A\n",
      "B\n",
      "2\n",
      "C\n",
      "3\n"
     ]
    }
   ],
   "source": [
    "# Get some items used for\n",
    "\n",
    "my_items = [ (1,'A') , ('B' ,2) , ('C',3) ]\n",
    "\n",
    "for (item1 , item2) in my_items :\n",
    "    \n",
    "    #print string only\n",
    "    print(item1)\n",
    "    print(item2)\n",
    "\n",
    "    "
   ]
  },
  {
   "cell_type": "markdown",
   "id": "2aded302",
   "metadata": {},
   "source": [
    "# While "
   ]
  },
  {
   "cell_type": "code",
   "execution_count": 62,
   "id": "44f8b5b4",
   "metadata": {},
   "outputs": [
    {
     "name": "stdout",
     "output_type": "stream",
     "text": [
      " I values is 1\n",
      " I values is 2\n",
      " I values is 3\n",
      " I values is 4\n",
      " I values is 5\n",
      " I values is 6\n",
      " I values is 7\n",
      " I values is 8\n",
      " I values is 9\n"
     ]
    }
   ],
   "source": [
    "# While With numbers \n",
    "i = 1 \n",
    "\n",
    "while (i < 10):\n",
    "    \n",
    "    print(f\" I values is {i}\")\n",
    "    \n",
    "    i = i+1\n",
    "    "
   ]
  },
  {
   "cell_type": "markdown",
   "id": "edcbd876",
   "metadata": {},
   "source": [
    "#  Range "
   ]
  },
  {
   "cell_type": "code",
   "execution_count": 63,
   "id": "8b489dbe",
   "metadata": {},
   "outputs": [
    {
     "name": "stdout",
     "output_type": "stream",
     "text": [
      "[0, 2, 4, 6, 8, 10, 12, 14, 16, 18, 20, 22, 24, 26, 28, 30, 32, 34, 36, 38, 40, 42, 44, 46, 48]\n"
     ]
    }
   ],
   "source": [
    "#Start 0\n",
    "#Stop 50\n",
    "#Jumb 3\n",
    "\n",
    "results = list(range(0,50,2))\n",
    "print(results)\n",
    "\n"
   ]
  },
  {
   "cell_type": "markdown",
   "id": "65cfa458",
   "metadata": {},
   "source": [
    "# In"
   ]
  },
  {
   "cell_type": "code",
   "execution_count": 67,
   "id": "1d5cfbb2",
   "metadata": {},
   "outputs": [
    {
     "name": "stdout",
     "output_type": "stream",
     "text": [
      "True\n"
     ]
    }
   ],
   "source": [
    "print('S' in 'Saeed Shaban')"
   ]
  }
 ],
 "metadata": {
  "kernelspec": {
   "display_name": "Python 3 (ipykernel)",
   "language": "python",
   "name": "python3"
  },
  "language_info": {
   "codemirror_mode": {
    "name": "ipython",
    "version": 3
   },
   "file_extension": ".py",
   "mimetype": "text/x-python",
   "name": "python",
   "nbconvert_exporter": "python",
   "pygments_lexer": "ipython3",
   "version": "3.8.12"
  }
 },
 "nbformat": 4,
 "nbformat_minor": 5
}
