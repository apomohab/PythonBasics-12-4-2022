{
 "cells": [
  {
   "cell_type": "markdown",
   "id": "7ab2ddf9",
   "metadata": {},
   "source": [
    "# Function 11-3-2022"
   ]
  },
  {
   "cell_type": "markdown",
   "id": "6b0f6aec",
   "metadata": {},
   "source": [
    "- A function is a block of code which only runs when it is called.\n",
    "\n",
    "- You can pass data, known as parameters, into a function.\n",
    "\n",
    "- A function can return data as a result.\n",
    "\n",
    "\n",
    "# Return \n",
    "\n",
    "- return - work to save the results of function to varibles to use later.\n",
    "\n",
    "\n",
    "# Arguemnts \n",
    "\n",
    "- Information can be passed into functions as arguments.\n",
    "\n",
    "- Arguments are specified after the function name, inside the parentheses. You can add as many arguments as you want, just separate them with a comma.\n",
    "\n",
    "\n",
    " # Skills \n",
    " \n",
    " - write function\n",
    " - add argument\n",
    " - add default arhgument\n",
    " - used return with argument\n",
    " \n",
    " \n",
    " # Structure \n",
    " \n",
    " def Funct_Name()\n",
    " \n",
    "     # Write funct content\n",
    "     \n",
    "#Called Function used name()\n",
    " "
   ]
  },
  {
   "cell_type": "code",
   "execution_count": 2,
   "id": "a28db0ee",
   "metadata": {},
   "outputs": [
    {
     "name": "stdout",
     "output_type": "stream",
     "text": [
      "Saeed Shaban\n"
     ]
    }
   ],
   "source": [
    "# Create Funcrtion print My name .\n",
    "\n",
    "def My_Name():\n",
    "    \n",
    "    \"\"\"\n",
    "    We can add doc string here for specific methods\n",
    "    \n",
    "    \"\"\"\n",
    "    \n",
    "    print(\"Saeed Shaban\")\n",
    "    \n",
    "My_Name()"
   ]
  },
  {
   "cell_type": "code",
   "execution_count": 10,
   "id": "e0542195",
   "metadata": {},
   "outputs": [
    {
     "name": "stdout",
     "output_type": "stream",
     "text": [
      " My name is Saeed Shaban and my age is 15\n"
     ]
    }
   ],
   "source": [
    "# Add Argument \n",
    "\n",
    "def Age_and_name(Age):\n",
    "    \n",
    "    name = 'Saeed Shaban'\n",
    "    \n",
    "    print(f\" My name is {name} and my age is {Age}\")\n",
    "    \n",
    "Age_and_name(15)"
   ]
  },
  {
   "cell_type": "code",
   "execution_count": 19,
   "id": "6f406d4a",
   "metadata": {},
   "outputs": [
    {
     "data": {
      "text/plain": [
       "3500"
      ]
     },
     "execution_count": 19,
     "metadata": {},
     "output_type": "execute_result"
    }
   ],
   "source": [
    "# Used return with argument .\n",
    "\n",
    "def numbers(num1,num2):\n",
    "        \n",
    "    return num1 * num2\n",
    "\n",
    "numbers( 50 , 50 + 20)"
   ]
  },
  {
   "cell_type": "code",
   "execution_count": 21,
   "id": "d5aef82c",
   "metadata": {},
   "outputs": [
    {
     "data": {
      "text/plain": [
       "'Web And Data science And Ai'"
      ]
     },
     "execution_count": 21,
     "metadata": {},
     "output_type": "execute_result"
    }
   ],
   "source": [
    "# Add Defaulte argument.\n",
    "\n",
    "def Python(job=\"Web And Data science And Ai\"):\n",
    "    \n",
    "    return job\n",
    "\n",
    "Python()"
   ]
  }
 ],
 "metadata": {
  "kernelspec": {
   "display_name": "Python 3 (ipykernel)",
   "language": "python",
   "name": "python3"
  },
  "language_info": {
   "codemirror_mode": {
    "name": "ipython",
    "version": 3
   },
   "file_extension": ".py",
   "mimetype": "text/x-python",
   "name": "python",
   "nbconvert_exporter": "python",
   "pygments_lexer": "ipython3",
   "version": "3.8.12"
  }
 },
 "nbformat": 4,
 "nbformat_minor": 5
}
