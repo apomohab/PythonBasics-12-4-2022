{
 "cells": [
  {
   "cell_type": "markdown",
   "id": "dad5e100",
   "metadata": {},
   "source": [
    "* on 12-2-2022\n"
   ]
  },
  {
   "cell_type": "code",
   "execution_count": 2,
   "id": "e056383d",
   "metadata": {},
   "outputs": [
    {
     "data": {
      "text/plain": [
       "2"
      ]
     },
     "execution_count": 2,
     "metadata": {},
     "output_type": "execute_result"
    }
   ],
   "source": [
    "#Addition\n",
    "\n",
    "1 + 1 "
   ]
  },
  {
   "cell_type": "code",
   "execution_count": 5,
   "id": "b03c0501",
   "metadata": {},
   "outputs": [
    {
     "data": {
      "text/plain": [
       "0"
      ]
     },
     "execution_count": 5,
     "metadata": {},
     "output_type": "execute_result"
    }
   ],
   "source": [
    "#Subtraction\n",
    "\n",
    "1 - 1"
   ]
  },
  {
   "cell_type": "code",
   "execution_count": 7,
   "id": "d7f5587c",
   "metadata": {},
   "outputs": [
    {
     "data": {
      "text/plain": [
       "1"
      ]
     },
     "execution_count": 7,
     "metadata": {},
     "output_type": "execute_result"
    }
   ],
   "source": [
    "#Multiplication\n",
    "\n",
    "1 * 1"
   ]
  },
  {
   "cell_type": "code",
   "execution_count": 10,
   "id": "1962b57e",
   "metadata": {},
   "outputs": [
    {
     "data": {
      "text/plain": [
       "6.0"
      ]
     },
     "execution_count": 10,
     "metadata": {},
     "output_type": "execute_result"
    }
   ],
   "source": [
    "#Division\n",
    "\n",
    "12 / 2 "
   ]
  },
  {
   "cell_type": "code",
   "execution_count": 12,
   "id": "1cb1ca8f",
   "metadata": {},
   "outputs": [
    {
     "data": {
      "text/plain": [
       "0"
      ]
     },
     "execution_count": 12,
     "metadata": {},
     "output_type": "execute_result"
    }
   ],
   "source": [
    "# Modulo Or Mod - الباقي بعد عملية القسمة علي الرقم الاخر\n",
    "\n",
    "\n",
    "12 % 2"
   ]
  },
  {
   "cell_type": "code",
   "execution_count": 15,
   "id": "7456e9fb",
   "metadata": {},
   "outputs": [
    {
     "data": {
      "text/plain": [
       "10"
      ]
     },
     "execution_count": 15,
     "metadata": {},
     "output_type": "execute_result"
    }
   ],
   "source": [
    "# مثلا العشرو لا تقبل القسمة علي الخمسة عشر ولكن تقبل القسمة علي الخمسة ويفضل الباقي عشرة \n",
    "10 % 15"
   ]
  },
  {
   "cell_type": "code",
   "execution_count": 18,
   "id": "da666373",
   "metadata": {},
   "outputs": [
    {
     "data": {
      "text/plain": [
       "5"
      ]
     },
     "execution_count": 18,
     "metadata": {},
     "output_type": "execute_result"
    }
   ],
   "source": [
    "15 % 10"
   ]
  },
  {
   "cell_type": "code",
   "execution_count": 20,
   "id": "3f077ce3",
   "metadata": {},
   "outputs": [
    {
     "data": {
      "text/plain": [
       "1267650600228229401496703205376"
      ]
     },
     "execution_count": 20,
     "metadata": {},
     "output_type": "execute_result"
    }
   ],
   "source": [
    "# Power\n",
    "\n",
    "2 ** 100 "
   ]
  },
  {
   "cell_type": "code",
   "execution_count": 22,
   "id": "bf7941bf",
   "metadata": {},
   "outputs": [
    {
     "data": {
      "text/plain": [
       "102"
      ]
     },
     "execution_count": 22,
     "metadata": {},
     "output_type": "execute_result"
    }
   ],
   "source": [
    "# Multiplied\n",
    "\n",
    "2 + 5 * 20 "
   ]
  },
  {
   "cell_type": "code",
   "execution_count": 23,
   "id": "2bc464a2",
   "metadata": {},
   "outputs": [
    {
     "data": {
      "text/plain": [
       "3150"
      ]
     },
     "execution_count": 23,
     "metadata": {},
     "output_type": "execute_result"
    }
   ],
   "source": [
    "#Parentheses \n",
    "\n",
    "(5 ** 5) + (5 * 5)"
   ]
  }
 ],
 "metadata": {
  "kernelspec": {
   "display_name": "Python 3 (ipykernel)",
   "language": "python",
   "name": "python3"
  },
  "language_info": {
   "codemirror_mode": {
    "name": "ipython",
    "version": 3
   },
   "file_extension": ".py",
   "mimetype": "text/x-python",
   "name": "python",
   "nbconvert_exporter": "python",
   "pygments_lexer": "ipython3",
   "version": "3.8.12"
  }
 },
 "nbformat": 4,
 "nbformat_minor": 5
}
